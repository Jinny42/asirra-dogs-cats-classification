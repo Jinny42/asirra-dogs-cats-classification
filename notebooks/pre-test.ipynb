{
 "cells": [
  {
   "cell_type": "code",
   "execution_count": null,
   "metadata": {
    "collapsed": true
   },
   "outputs": [],
   "source": [
    "import os, sys\n",
    "sys.path.append('..')\n",
    "import numpy as np\n",
    "# from imageio import imread\n",
    "from skimage.io import imread\n",
    "from skimage.transform import resize\n",
    "\n",
    "import matplotlib.pyplot as plt\n",
    "%matplotlib inline\n",
    "%load_ext autoreload\n",
    "%autoreload 2"
   ]
  },
  {
   "cell_type": "code",
   "execution_count": null,
   "metadata": {
    "collapsed": true
   },
   "outputs": [],
   "source": [
    "root_dir = os.path.join('/', 'mnt', 'sdb2', 'Datasets', 'asirra')\n",
    "train_dir = os.path.join(root_dir, 'train')\n",
    "test_dir = os.path.join(root_dir, 'test')"
   ]
  },
  {
   "cell_type": "markdown",
   "metadata": {},
   "source": [
    "### Load dataset"
   ]
  },
  {
   "cell_type": "code",
   "execution_count": null,
   "metadata": {},
   "outputs": [],
   "source": [
    "from datasets import asirra as dataset\n",
    "X_trainval, y_trainval = dataset.read_asirra_subset(train_dir, one_hot=True)#, \n",
    "                                                    # sample_size=1000)    # FIXME"
   ]
  },
  {
   "cell_type": "code",
   "execution_count": null,
   "metadata": {
    "collapsed": true
   },
   "outputs": [],
   "source": [
    "trainval_size = X_trainval.shape[0]\n",
    "val_size = int(trainval_size * 0.2)    # FIXME\n",
    "# val_size = int(trainval_size * 0.5)    # FIXME\n",
    "X_val, y_val = X_trainval[:val_size], y_trainval[:val_size]\n",
    "X_train, y_train = X_trainval[val_size:], y_trainval[val_size:]\n",
    "\n",
    "train_set = dataset.DataSet(X_train, y_train)\n",
    "val_set = dataset.DataSet(X_val, y_val)"
   ]
  },
  {
   "cell_type": "code",
   "execution_count": null,
   "metadata": {},
   "outputs": [],
   "source": [
    "print(X_train.shape)\n",
    "print(X_train.min(), X_train.max())\n",
    "print(X_val.shape)\n",
    "print(X_val.min(), X_val.max())"
   ]
  },
  {
   "cell_type": "markdown",
   "metadata": {},
   "source": [
    "### Visualize results of data augmentation: patch cropping, horizontal flipping"
   ]
  },
  {
   "cell_type": "code",
   "execution_count": null,
   "metadata": {},
   "outputs": [],
   "source": [
    "batch_size = 16\n",
    "batch_images, batch_labels = train_set.next_batch(batch_size, shuffle=True, \n",
    "                                                  augment=False, is_train=True)\n",
    "\n",
    "fig, axes = plt.subplots(4, 4, figsize=(20, 20))\n",
    "for j in range(4):\n",
    "    for i in range(4):\n",
    "        idx = 4*j+i\n",
    "        axes[j, i].imshow(batch_images[idx])\n",
    "        axes[j, i].set_title('label: {}'.format(batch_labels[idx]))\n",
    "        _ = axes[j, i].axis('off')"
   ]
  },
  {
   "cell_type": "code",
   "execution_count": null,
   "metadata": {},
   "outputs": [],
   "source": [
    "batch_size = 1\n",
    "augment = False\n",
    "batch_images, batch_labels = train_set.next_batch(batch_size, shuffle=True, \n",
    "                                                  augment=augment, is_train=False)\n",
    "print(batch_images.shape)\n",
    "\n",
    "if not augment:\n",
    "    fig, ax = plt.subplots(1, 1, figsize=(5, 5))\n",
    "    ax.imshow(batch_images[0])\n",
    "    ax.set_title('label: {}'.format(batch_labels[0]))\n",
    "    _ = ax.axis('off')\n",
    "else:\n",
    "    fig, axes = plt.subplots(2, 5, figsize=(25, 10))\n",
    "    for j in range(2):\n",
    "        for i in range(5):\n",
    "            idx = 5*j+i\n",
    "            axes[j, i].imshow(batch_images[0, idx])\n",
    "            axes[j, i].set_title('label: {}'.format(batch_labels[0]))\n",
    "            _ = axes[j, i].axis('off')"
   ]
  },
  {
   "cell_type": "markdown",
   "metadata": {
    "collapsed": true
   },
   "source": [
    "### Preliminary experiments"
   ]
  },
  {
   "cell_type": "code",
   "execution_count": null,
   "metadata": {},
   "outputs": [],
   "source": [
    "hp_d = dict()\n",
    "# Mean image\n",
    "hp_d['image_mean'] = train_set.images.mean(axis=(0, 1, 2))\n",
    "print(hp_d['image_mean'])\n",
    "print((train_set.images - hp_d['image_mean']).mean(axis=(0, 1, 2)))"
   ]
  },
  {
   "cell_type": "code",
   "execution_count": null,
   "metadata": {
    "collapsed": true
   },
   "outputs": [],
   "source": [
    "# FIXME: Regularization hyperparameters\n",
    "hp_d['weight_decay'] = 0.0000\n",
    "\n",
    "# FIXME: Training hyperparameters\n",
    "hp_d['batch_size'] = 256\n",
    "hp_d['num_epochs'] = 320\n",
    "\n",
    "hp_d['augment_train'] = True \n",
    "hp_d['augment_pred'] = False\n",
    "\n",
    "hp_d['init_learning_rate'] = 0.01\n",
    "hp_d['momentum'] = 0.9\n",
    "hp_d['learning_rate_patience'] = 10\n",
    "hp_d['learning_rate_decay'] = 0.1\n",
    "hp_d['eps'] = 1e-8\n",
    "\n",
    "# FIXME: Evaluation hyperparameters\n",
    "hp_d['score_threshold'] = 1e-4"
   ]
  },
  {
   "cell_type": "code",
   "execution_count": null,
   "metadata": {
    "collapsed": true
   },
   "outputs": [],
   "source": [
    "import tensorflow as tf\n",
    "from models.nn import AlexNet as ConvNet\n",
    "from learning.optimizers import MomentumOptimizer as Optimizer\n",
    "from learning.evaluators import AccuracyEvaluator as Evaluator"
   ]
  },
  {
   "cell_type": "code",
   "execution_count": null,
   "metadata": {
    "scrolled": false
   },
   "outputs": [],
   "source": [
    "tf.reset_default_graph()\n",
    "graph = tf.get_default_graph()\n",
    "\n",
    "config = tf.ConfigProto()\n",
    "config.gpu_options.allow_growth = True\n",
    "\n",
    "model = ConvNet([227, 227, 3], 2, **hp_d)\n",
    "sess = tf.Session(graph=graph, config=config)\n",
    "evaluator = Evaluator()\n",
    "optimizer = Optimizer(sess, model, train_set, evaluator, **hp_d)"
   ]
  },
  {
   "cell_type": "code",
   "execution_count": null,
   "metadata": {},
   "outputs": [],
   "source": [
    "-np.log(0.5)"
   ]
  },
  {
   "cell_type": "code",
   "execution_count": null,
   "metadata": {
    "scrolled": false
   },
   "outputs": [],
   "source": [
    "train_results = optimizer.train(eval_set=val_set, details=True, verbose=True, **hp_d)    # FIXME"
   ]
  },
  {
   "cell_type": "code",
   "execution_count": null,
   "metadata": {
    "collapsed": true
   },
   "outputs": [],
   "source": []
  }
 ],
 "metadata": {
  "kernelspec": {
   "display_name": "Python 3",
   "language": "python",
   "name": "python3"
  },
  "language_info": {
   "codemirror_mode": {
    "name": "ipython",
    "version": 3
   },
   "file_extension": ".py",
   "mimetype": "text/x-python",
   "name": "python",
   "nbconvert_exporter": "python",
   "pygments_lexer": "ipython3",
   "version": "3.5.3"
  }
 },
 "nbformat": 4,
 "nbformat_minor": 2
}
